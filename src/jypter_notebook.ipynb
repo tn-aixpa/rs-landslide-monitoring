{
 "cells": [
  {
   "cell_type": "code",
   "execution_count": 1,
   "id": "22976efc-003a-4170-bcf0-6a33ac84e76a",
   "metadata": {},
   "outputs": [],
   "source": [
    "import digitalhub as dh\n",
    "PROJECT_NAME = \"landslide-monitoring\"\n",
    "proj = dh.get_or_create_project(PROJECT_NAME)"
   ]
  },
  {
   "cell_type": "markdown",
   "id": "246d5c4d",
   "metadata": {},
   "source": [
    "Register to the open data space copenicus(if not already) and get your credentials.\n",
    "\n",
    "https://identity.dataspace.copernicus.eu/auth/realms/CDSE/login-actions/registration?client_id=cdse-public&tab_id=FIiRPJeoiX4\n",
    "\n",
    "Log the credentials as project secret keys as shown below"
   ]
  },
  {
   "cell_type": "code",
   "execution_count": 2,
   "id": "cbb91e46",
   "metadata": {},
   "outputs": [],
   "source": [
    "# THIS NEED TO BE EXECUTED JUST ONCE\n",
    "secret0 = proj.new_secret(name=\"CDSETOOL_ESA_USER\", secret_value=\"esa_username\")\n",
    "secret1 = proj.new_secret(name=\"CDSETOOL_ESA_PASSWORD\", secret_value=\"esa_password\")"
   ]
  },
  {
   "cell_type": "markdown",
   "id": "29a61c81",
   "metadata": {},
   "source": [
    "### Download data from Sentinel 1 (Orbit Direction Ascending)"
   ]
  },
  {
   "cell_type": "code",
   "execution_count": null,
   "id": "9df13fdf-91c7-4fe3-8582-14b279d1461a",
   "metadata": {},
   "outputs": [],
   "source": [
    "function_s1 = proj.new_function(\"download_images_s1\",kind=\"container\",image=\"ghcr.io/tn-aixpa/sentinel-tools:0.11.2\",command=\"python\")"
   ]
  },
  {
   "cell_type": "code",
   "execution_count": null,
   "id": "04e48c74-c050-4cd2-ac59-3678097cbca0",
   "metadata": {},
   "outputs": [],
   "source": [
    "string_dict_data = \"\"\"{\n",
    "  'satelliteParams':{\n",
    "      'satelliteType': 'Sentinel1',\n",
    "      'processingLevel': 'LEVEL1',\n",
    "      'sensorMode': 'IW',\n",
    "      'productType': 'SLC',\n",
    "      'orbitDirection': 'ASCENDING',\n",
    "      'relativeOrbitNumber': '168'\n",
    "  } ,\n",
    "  'startDate': '2021-03-01',\n",
    "  'endDate': '2023-03-31',\n",
    "  'geometry': 'POLYGON((10.81295 45.895743, 10.813637 45.895743, 10.813637 45.89634, 10.81295 45.89634, 10.81295 45.895743))',\n",
    "  'area_sampling': 'True',\n",
    "  'tmp_path_same_folder_dwl':'True',\n",
    "  'artifact_name': 's1_ascending'\n",
    "  }\"\"\"\n",
    "list_args =  [\"main.py\",string_dict_data]"
   ]
  },
  {
   "cell_type": "code",
   "execution_count": 7,
   "id": "e77fae2d-95ac-46c1-9ed8-47a7e5b63a49",
   "metadata": {},
   "outputs": [],
   "source": [
    "run = function_s1.run(\n",
    "    action=\"job\",\n",
    "    secrets=[\"CDSETOOL_ESA_USER\",\"CDSETOOL_ESA_PASSWORD\"],\n",
    "    fs_group='8877',\n",
    "    args=[\"main.py\", string_dict_data],\n",
    "    resources={\"cpu\": {\"requests\": \"3\", \"limits\": \"6\"},\"mem\":{\"requests\": \"32Gi\", \"limits\": \"64Gi\"}},\n",
    "    volumes=[{\n",
    "        \"volume_type\": \"persistent_volume_claim\",\n",
    "        \"name\": \"volume-land\",\n",
    "        \"mount_path\": \"/app/files\",\n",
    "        \"spec\": {\n",
    "             \"size\": \"100Gi\" \n",
    "        }\n",
    "    }])"
   ]
  },
  {
   "cell_type": "markdown",
   "id": "58bcfe99-6d6a-4568-9e0a-16277fb30f9c",
   "metadata": {},
   "source": [
    "### Download data from Sentinel 1 (Orbit Direction Descending)"
   ]
  },
  {
   "cell_type": "code",
   "execution_count": null,
   "id": "4c20c860-f8c7-41c5-89f9-e93d8ff2d2ed",
   "metadata": {},
   "outputs": [],
   "source": [
    "string_dict_data = \"\"\"{\n",
    "  'satelliteParams':{\n",
    "      'satelliteType': 'Sentinel1',\n",
    "      'processingLevel': 'LEVEL1',\n",
    "      'sensorMode': 'IW',\n",
    "      'productType': 'SLC',\n",
    "      'orbitDirection': 'DESCENDING',\n",
    "      'relativeOrbitNumber': '168'\n",
    "  } ,\n",
    "  'startDate': '2021-03-01',\n",
    "  'endDate': '2023-03-31',\n",
    "  'geometry': 'POLYGON((10.81295 45.895743, 10.813637 45.895743, 10.813637 45.89634, 10.81295 45.89634, 10.81295 45.895743))',\n",
    "  'area_sampling': 'True',\n",
    "  'tmp_path_same_folder_dwl':'True',\n",
    "  'artifact_name': 's1_descending'\n",
    "  }\"\"\"\n",
    "list_args =  [\"main.py\",string_dict_data]"
   ]
  },
  {
   "cell_type": "code",
   "execution_count": 11,
   "id": "06176bc9-6faa-457e-aaba-9c044e9b6f03",
   "metadata": {},
   "outputs": [],
   "source": [
    "run = function_s1.run(\n",
    "    action=\"job\",\n",
    "    secrets=[\"CDSETOOL_ESA_USER\",\"CDSETOOL_ESA_PASSWORD\"],\n",
    "    fs_group='8877',\n",
    "    args=[\"main.py\", string_dict_data],\n",
    "    resources={\"cpu\": {\"requests\": \"3\", \"limits\": \"6\"},\"mem\":{\"requests\": \"32Gi\", \"limits\": \"64Gi\"}},\n",
    "    volumes=[{\n",
    "        \"volume_type\": \"persistent_volume_claim\",\n",
    "        \"name\": \"volume-land\",\n",
    "        \"mount_path\": \"/app/files\",\n",
    "        \"spec\": {\n",
    "             \"size\": \"100Gi\" \n",
    "        }\n",
    "    }])"
   ]
  },
  {
   "cell_type": "markdown",
   "id": "cb5d1d27-54e4-4810-8466-d8f040682d4d",
   "metadata": {
    "scrolled": true
   },
   "source": [
    "### Perform Data Elaboration on RS-Tool"
   ]
  },
  {
   "cell_type": "code",
   "execution_count": 4,
   "id": "f4a857ec-04bc-4c6e-ae4b-4c6366221690",
   "metadata": {},
   "outputs": [],
   "source": [
    "artifact_name='bosco'\n",
    "src_path='bosco'\n",
    "artifact_bosco = proj.log_artifact(name=artifact_name, kind=\"artifact\", source=src_path)"
   ]
  },
  {
   "cell_type": "code",
   "execution_count": 4,
   "id": "75cce63e-b905-4041-844e-f82dde6e49a4",
   "metadata": {},
   "outputs": [],
   "source": [
    "# artifact_name='data'\n",
    "# src_path='data'\n",
    "# artifact_data = proj.log_artifact(name=artifact_name, kind=\"artifact\", source=src_path)"
   ]
  },
  {
   "cell_type": "code",
   "execution_count": 5,
   "id": "c744ddba-b96a-4d86-a006-b0a5ae40441a",
   "metadata": {},
   "outputs": [],
   "source": [
    "function_rs = proj.new_function(\"elaborate\",kind=\"container\", image=\"ghcr.io/tn-aixpa/rs-deforestation:2.6_b8\", command=\"/bin/bash\", code_src=\"launch.sh\")"
   ]
  },
  {
   "cell_type": "code",
   "execution_count": null,
   "id": "69eebdf5-3aed-4754-b16d-951b238dc7ce",
   "metadata": {},
   "outputs": [],
   "source": [
    "#function_rs = proj.get_function(\"elaborate\")"
   ]
  },
  {
   "cell_type": "code",
   "execution_count": null,
   "id": "eb92c2a0-795b-4e51-964f-3f32a30c6b1b",
   "metadata": {},
   "outputs": [],
   "source": [
    "run_el = function_rs.run(\n",
    "    action=\"job\",\n",
    "    fs_group='8877',\n",
    "    resources={\"cpu\": {\"requests\": \"6\", \"limits\": \"12\"},\"mem\":{\"requests\": \"32Gi\", \"limits\": \"64Gi\"}},\n",
    "    volumes=[{\n",
    "        \"volume_type\": \"persistent_volume_claim\",\n",
    "        \"name\": \"volume-deforestation\",\n",
    "        \"mount_path\": \"/app/files\",\n",
    "        \"spec\": { \"size\": \"250Gi\" }\n",
    "    }],\n",
    "    args=['/shared/launch.sh', 'bosco', 'data_s2_deforestation', '[2018,2019]',  'deforestation_2018_19']\n",
    ")"
   ]
  },
  {
   "cell_type": "code",
   "execution_count": 11,
   "id": "5167a61b-8d5e-4b12-9928-ffca97ccb93a",
   "metadata": {},
   "outputs": [
    {
     "data": {
      "text/plain": [
       "'RUNNING'"
      ]
     },
     "execution_count": 11,
     "metadata": {},
     "output_type": "execute_result"
    }
   ],
   "source": [
    "run_el.refresh().status.state"
   ]
  },
  {
   "cell_type": "markdown",
   "id": "ea47995d-3fa9-448b-a6b7-21d597f56dca",
   "metadata": {},
   "source": [
    "### Pipeline"
   ]
  },
  {
   "cell_type": "code",
   "execution_count": 2,
   "id": "f859a4d0-31fa-447d-95ff-0b961c4daaa5",
   "metadata": {},
   "outputs": [
    {
     "name": "stdout",
     "output_type": "stream",
     "text": [
      "Overwriting deforestation_pipeline.py\n"
     ]
    }
   ],
   "source": [
    "%%writefile \"deforestation_pipeline.py\"\n",
    "\n",
    "from digitalhub_runtime_kfp.dsl import pipeline_context\n",
    "\n",
    "def myhandler(startYear, endYear, geometry, shapeArtifactName, dataArtifactName, outputName):\n",
    "    with pipeline_context() as pc:\n",
    "        string_dict_data = \"\"\"{\"satelliteParams\":{\"satelliteType\":\"Sentinel2\"},\"startDate\":\\\"\"\"\"+ str(startYear) + \"\"\"-01-01\\\",\"endDate\": \\\"\"\"\" + str(endYear) + \"\"\"-12-31\\\",\"geometry\": \\\"\"\"\" + str(geometry) + \"\"\"\\\",\"area_sampling\":\"true\",\"cloudCover\":\"[0,20]\",\"artifact_name\":\"data_s2_deforestation\"}\"\"\"\n",
    "        s1 = pc.step(name=\"download\",\n",
    "                     function=\"download_images_s2\",\n",
    "                     action=\"job\",\n",
    "                     secrets=[\"CDSETOOL_ESA_USER\",\"CDSETOOL_ESA_PASSWORD\"],\n",
    "                     fs_group='8877',\n",
    "                     args=[\"main.py\", string_dict_data],\n",
    "                     volumes=[{\n",
    "                        \"volume_type\": \"persistent_volume_claim\",\n",
    "                        \"name\": \"volume-deforestation\",\n",
    "                        \"mount_path\": \"/app/files\",\n",
    "                        \"spec\": { \"size\": \"250Gi\" }\n",
    "                        }\n",
    "                    ])\n",
    "        s2 = pc.step(name=\"elaborate\",\n",
    "                     function=\"elaborate\",\n",
    "                     action=\"job\",\n",
    "                     fs_group='8877',\n",
    "                     resources={\"cpu\": {\"requests\": \"6\", \"limits\": \"12\"},\"mem\":{\"requests\": \"32Gi\", \"limits\": \"64Gi\"}},\n",
    "                     volumes=[{\n",
    "                        \"volume_type\": \"persistent_volume_claim\",\n",
    "                        \"name\": \"volume-deforestation\",\n",
    "                        \"mount_path\": \"/app/files\",\n",
    "                        \"spec\": { \"size\": \"250Gi\" }\n",
    "                    }],\n",
    "                     args=['/shared/launch.sh', str(shapeArtifactName), 'data_s2_deforestation', \"[\" + str(startYear) + ',' + str(endYear) + \"]\", str(outputName)]\n",
    "                     ).after(s1)\n",
    "     \n"
   ]
  },
  {
   "cell_type": "code",
   "execution_count": 3,
   "id": "2ff74531-65f7-4f4d-a283-f1dac73a2de5",
   "metadata": {},
   "outputs": [],
   "source": [
    "workflow = proj.new_workflow(name=\"pipeline_deforestation\", kind=\"kfp\", code_src= \"deforestation_pipeline.py\", handler = \"myhandler\")"
   ]
  },
  {
   "cell_type": "code",
   "execution_count": 5,
   "id": "5215a014-7342-4e9e-ba12-9d31b49cd44d",
   "metadata": {},
   "outputs": [
    {
     "name": "stderr",
     "output_type": "stream",
     "text": [
      "2025-06-10 11:19:53,408 - INFO - Waiting for run 66e5b16b2d5340b398f6fe5ca872e32e to finish...\n",
      "2025-06-10 11:19:58,436 - INFO - Waiting for run 66e5b16b2d5340b398f6fe5ca872e32e to finish...\n",
      "2025-06-10 11:20:03,689 - INFO - Waiting for run 66e5b16b2d5340b398f6fe5ca872e32e to finish...\n",
      "2025-06-10 11:20:08,723 - INFO - Run 66e5b16b2d5340b398f6fe5ca872e32e finished in 15.32 seconds.\n"
     ]
    }
   ],
   "source": [
    "wfbuild = workflow.run(action=\"build\", wait=True)"
   ]
  },
  {
   "cell_type": "code",
   "execution_count": 7,
   "id": "1bf170e2-0835-4dc8-85ac-1121aafaaf42",
   "metadata": {},
   "outputs": [],
   "source": [
    "workflow_run = workflow.run(action=\"pipeline\", parameters={\n",
    "    \"startYear\": 2018,\n",
    "    \"endYear\": 2019,\n",
    "    \"geometry\": \"POLYGON ((10.71297105232361 46.091369896369656, 10.71297105232361 45.91562543985691, 11.096755162591023 45.91562543985691, 11.096755162591023 46.091369896369656, 10.71297105232361 46.091369896369656))\",\n",
    "    \"shapeArtifactName\":\"bosco\",\n",
    "    'dataArtifactName': \"data_s2_deforestation\",\n",
    "    \"outputName\": \"deforestation_2018_19\"\n",
    "    })"
   ]
  },
  {
   "cell_type": "code",
   "execution_count": null,
   "id": "b9dcd68d-2196-4e35-9fb2-3ba860721089",
   "metadata": {},
   "outputs": [],
   "source": []
  }
 ],
 "metadata": {
  "kernelspec": {
   "display_name": "Python 3 (ipykernel)",
   "language": "python",
   "name": "python3"
  },
  "language_info": {
   "codemirror_mode": {
    "name": "ipython",
    "version": 3
   },
   "file_extension": ".py",
   "mimetype": "text/x-python",
   "name": "python",
   "nbconvert_exporter": "python",
   "pygments_lexer": "ipython3",
   "version": "3.10.11"
  }
 },
 "nbformat": 4,
 "nbformat_minor": 5
}
