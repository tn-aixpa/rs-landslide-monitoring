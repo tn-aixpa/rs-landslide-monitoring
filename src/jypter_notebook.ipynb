{
 "cells": [
  {
   "cell_type": "code",
   "execution_count": 2,
   "id": "22976efc-003a-4170-bcf0-6a33ac84e76a",
   "metadata": {},
   "outputs": [],
   "source": [
    "import digitalhub as dh\n",
    "PROJECT_NAME = \"landslide-monitoring\"\n",
    "proj = dh.get_or_create_project(PROJECT_NAME)"
   ]
  },
  {
   "cell_type": "markdown",
   "id": "246d5c4d",
   "metadata": {},
   "source": [
    "Register to the open data space copenicus(if not already) and get your credentials.\n",
    "\n",
    "https://identity.dataspace.copernicus.eu/auth/realms/CDSE/login-actions/registration?client_id=cdse-public&tab_id=FIiRPJeoiX4\n",
    "\n",
    "Log the credentials as project secret keys as shown below"
   ]
  },
  {
   "cell_type": "code",
   "execution_count": 2,
   "id": "cbb91e46",
   "metadata": {},
   "outputs": [],
   "source": [
    "# THIS NEED TO BE EXECUTED JUST ONCE\n",
    "secret0 = proj.new_secret(name=\"CDSETOOL_ESA_USER\", secret_value=\"esa_username\")\n",
    "secret1 = proj.new_secret(name=\"CDSETOOL_ESA_PASSWORD\", secret_value=\"esa_password\")"
   ]
  },
  {
   "cell_type": "markdown",
   "id": "29a61c81",
   "metadata": {},
   "source": [
    "### Download data from Sentinel 1 (Orbit Direction Ascending)"
   ]
  },
  {
   "cell_type": "code",
   "execution_count": 2,
   "id": "9df13fdf-91c7-4fe3-8582-14b279d1461a",
   "metadata": {},
   "outputs": [],
   "source": [
    "function_s1 = proj.new_function(\"download_images_s1\",kind=\"container\",image=\"ghcr.io/tn-aixpa/sentinel-tools:0.11.5\",command=\"python\")"
   ]
  },
  {
   "cell_type": "code",
   "execution_count": 28,
   "id": "04e48c74-c050-4cd2-ac59-3678097cbca0",
   "metadata": {},
   "outputs": [],
   "source": [
    "string_dict_data = \"\"\"{\n",
    "  'satelliteParams':{\n",
    "      'satelliteType': 'Sentinel1',\n",
    "      'processingLevel': 'LEVEL1',\n",
    "      'sensorMode': 'IW',\n",
    "      'productType': 'SLC',\n",
    "      'orbitDirection': 'ASCENDING',\n",
    "      'relativeOrbitNumber': '117'\n",
    "  } ,\n",
    "  'startDate': '2021-03-04',\n",
    "  'endDate': '2021-03-10',\n",
    "  'geometry': 'POLYGON((10.81295 45.895743, 10.813637 45.895743, 10.813637 45.89634, 10.81295 45.89634, 10.81295 45.895743))',\n",
    "  'area_sampling': 'True',\n",
    "  'tmp_path_same_folder_dwl':'True',\n",
    "  'artifact_name': 's1_ascending'\n",
    "  }\"\"\"\n",
    "list_args =  [\"main.py\",string_dict_data]"
   ]
  },
  {
   "cell_type": "code",
   "execution_count": null,
   "id": "e77fae2d-95ac-46c1-9ed8-47a7e5b63a49",
   "metadata": {},
   "outputs": [],
   "source": [
    "run = function_s1.run(\n",
    "    action=\"job\",\n",
    "    secrets=[\"CDSETOOL_ESA_USER\",\"CDSETOOL_ESA_PASSWORD\"],\n",
    "    fs_group='8877',\n",
    "    args=[\"main.py\", string_dict_data],\n",
    "    resources={\"cpu\": {\"requests\": \"3\", \"limits\": \"6\"},\"mem\":{\"requests\": \"32Gi\", \"limits\": \"64Gi\"}},\n",
    "    volumes=[{\n",
    "        \"volume_type\": \"persistent_volume_claim\",\n",
    "        \"name\": \"volume-land\",\n",
    "        \"mount_path\": \"/app/data\",\n",
    "        \"spec\": {\n",
    "             \"size\": \"300Gi\" \n",
    "        }\n",
    "    }])"
   ]
  },
  {
   "cell_type": "markdown",
   "id": "58bcfe99-6d6a-4568-9e0a-16277fb30f9c",
   "metadata": {},
   "source": [
    "### Download data from Sentinel 1 (Orbit Direction Descending)"
   ]
  },
  {
   "cell_type": "code",
   "execution_count": null,
   "id": "4c20c860-f8c7-41c5-89f9-e93d8ff2d2ed",
   "metadata": {},
   "outputs": [],
   "source": [
    "string_dict_data = \"\"\"{\n",
    "  'satelliteParams':{\n",
    "      'satelliteType': 'Sentinel1',\n",
    "      'processingLevel': 'LEVEL1',\n",
    "      'sensorMode': 'IW',\n",
    "      'productType': 'SLC',\n",
    "      'orbitDirection': 'DESCENDING',\n",
    "      'relativeOrbitNumber': '168'\n",
    "  } ,\n",
    "  'startDate': '2021-03-01',\n",
    "  'endDate': '2021-03-15',\n",
    "  'geometry': 'POLYGON((10.81295 45.895743, 10.813637 45.895743, 10.813637 45.89634, 10.81295 45.89634, 10.81295 45.895743))',\n",
    "  'area_sampling': 'True',\n",
    "  'tmp_path_same_folder_dwl':'True',\n",
    "  'artifact_name': 's1_descending'\n",
    "  }\"\"\"\n",
    "list_args =  [\"main.py\",string_dict_data]"
   ]
  },
  {
   "cell_type": "code",
   "execution_count": null,
   "id": "06176bc9-6faa-457e-aaba-9c044e9b6f03",
   "metadata": {},
   "outputs": [],
   "source": [
    "run = function_s1.run(\n",
    "    action=\"job\",\n",
    "    secrets=[\"CDSETOOL_ESA_USER\",\"CDSETOOL_ESA_PASSWORD\"],\n",
    "    fs_group='8877',\n",
    "    args=[\"main.py\", string_dict_data],\n",
    "    #resources={\"cpu\": {\"requests\": \"3\", \"limits\": \"6\"},\"mem\":{\"requests\": \"32Gi\", \"limits\": \"64Gi\"}},\n",
    "    volumes=[{\n",
    "        \"volume_type\": \"persistent_volume_claim\",\n",
    "        \"name\": \"volume-land\",\n",
    "        \"mount_path\": \"/app/files\",\n",
    "        \"spec\": {\n",
    "             \"size\": \"300Gi\" \n",
    "        }\n",
    "    }])"
   ]
  },
  {
   "cell_type": "markdown",
   "id": "cb5d1d27-54e4-4810-8466-d8f040682d4d",
   "metadata": {
    "scrolled": true
   },
   "source": [
    "### Perform Data Elaboration on RS-Tool"
   ]
  },
  {
   "cell_type": "code",
   "execution_count": null,
   "id": "75cce63e-b905-4041-844e-f82dde6e49a4",
   "metadata": {},
   "outputs": [],
   "source": [
    "# artifact_name='Shapes_TN'\n",
    "# src_path='data/Shapes_TN'\n",
    "# artifact_data = proj.log_artifact(name=artifact_name, kind=\"artifact\", source=src_path)"
   ]
  },
  {
   "cell_type": "code",
   "execution_count": null,
   "id": "c744ddba-b96a-4d86-a006-b0a5ae40441a",
   "metadata": {},
   "outputs": [],
   "source": [
    "function_rs = proj.new_function(\"elaborate\",kind=\"container\", image=\"ghcr.io/tn-aixpa/rs-landslide-monitoring:2.7_b9\", command=\"/bin/bash\", code_src=\"launch.sh\")"
   ]
  },
  {
   "cell_type": "code",
   "execution_count": 22,
   "id": "69eebdf5-3aed-4754-b16d-951b238dc7ce",
   "metadata": {},
   "outputs": [],
   "source": [
    "#function_rs = proj.get_function(\"elaborate\")"
   ]
  },
  {
   "cell_type": "code",
   "execution_count": null,
   "id": "eb92c2a0-795b-4e51-964f-3f32a30c6b1b",
   "metadata": {},
   "outputs": [],
   "source": [
    "run_el = function_rs.run(\n",
    "    action=\"job\",\n",
    "    fs_group='8877',\n",
    "    resources={\"cpu\": {\"requests\": \"16\", \"limits\": \"24\"},\"mem\":{\"requests\": \"32Gi\", \"limits\": \"64Gi\"}},\n",
    "    volumes=[{\n",
    "        \"volume_type\": \"persistent_volume_claim\",\n",
    "        \"name\": \"volume-land\",\n",
    "        \"mount_path\": \"/app/files\",\n",
    "        \"spec\": { \"size\": \"600Gi\" }\n",
    "    }],\n",
    "    args=['/shared/launch.sh', 's1_ascending', 's1_descending', '2021-03-01', '2021-07-30', 'landslide_2021-03-04_2021-07-30', 'Shapes_TN', 'ammprv_v.shp','POLYGON ((11.687737 46.134408, 11.773911 46.134408, 11.773911 46.174363, 11.687737 46.174363, 11.687737 46.134408))']\n",
    ")"
   ]
  },
  {
   "cell_type": "code",
   "execution_count": 7,
   "id": "5167a61b-8d5e-4b12-9928-ffca97ccb93a",
   "metadata": {},
   "outputs": [
    {
     "data": {
      "text/plain": [
       "'RUNNING'"
      ]
     },
     "execution_count": 7,
     "metadata": {},
     "output_type": "execute_result"
    }
   ],
   "source": [
    "run_el.refresh().status.state"
   ]
  },
  {
   "cell_type": "markdown",
   "id": "ea47995d-3fa9-448b-a6b7-21d597f56dca",
   "metadata": {},
   "source": [
    "### Pipeline"
   ]
  },
  {
   "cell_type": "code",
   "execution_count": null,
   "id": "f859a4d0-31fa-447d-95ff-0b961c4daaa5",
   "metadata": {},
   "outputs": [
    {
     "name": "stdout",
     "output_type": "stream",
     "text": [
      "Overwriting landslide_pipeline.py\n"
     ]
    }
   ],
   "source": [
    "%%writefile \"landslide_pipeline.py\"\n",
    "\n",
    "from digitalhub_runtime_kfp.dsl import pipeline_context\n",
    "\n",
    "def myhandler(startDate, endDate, geometry, outputName):\n",
    "    with pipeline_context() as pc:\n",
    "        string_dict_data_asc = \"\"\"{\"satelliteParams\":{\"satelliteType\": \"Sentinel1\",\"processingLevel\": \"LEVEL1\",\"sensorMode\": \"IW\",\"productType\": \"SLC\",\"orbitDirection\": \"ASCENDING\",\"relativeOrbitNumber\": \"117\"},\"startDate\": \\\"\"\"\" + str(startDate) + \"\"\"\\\",\"endDate\": \\\"\"\"\" + str(endDate) + \"\"\"\\\",\"geometry\": \\\"\"\"\" + str(geometry) + \"\"\"\\\",\"area_sampling\": \"True\",\"artifact_name\": \"s1_ascending\"}\"\"\"\n",
    "        string_dict_data_des = \"\"\"{\"satelliteParams\":{\"satelliteType\": \"Sentinel1\",\"processingLevel\": \"LEVEL1\",\"sensorMode\": \"IW\",\"productType\": \"SLC\",\"orbitDirection\": \"DESCENDING\",\"relativeOrbitNumber\": \"168\"},\"startDate\": \\\"\"\"\" + str(startDate) + \"\"\"\\\",\"endDate\": \\\"\"\"\" + str(endDate) + \"\"\"\\\",\"geometry\": \\\"\"\"\" + str(geometry) + \"\"\"\\\",\"area_sampling\": \"True\",\"artifact_name\": \"s1_descending\"}\"\"\"\n",
    "        \n",
    "        s1 = pc.step(name=\"download-asc\",\n",
    "                     function=\"download_images_s1\",\n",
    "                     action=\"job\",\n",
    "                     secrets=[\"CDSETOOL_ESA_USER\",\"CDSETOOL_ESA_PASSWORD\"],\n",
    "                     fs_group='8877',\n",
    "                     args=[\"main.py\", string_dict_data_asc],\n",
    "                     volumes=[{\n",
    "                        \"volume_type\": \"persistent_volume_claim\",\n",
    "                        \"name\": \"volume-land\",\n",
    "                        \"mount_path\": \"/app/files\",\n",
    "                        \"spec\": { \"size\": \"300Gi\" }\n",
    "                        }\n",
    "                    ])\n",
    "\n",
    "        s2 = pc.step(name=\"download-desc\",\n",
    "                     function=\"download_images_s1\",\n",
    "                     action=\"job\",\n",
    "                     secrets=[\"CDSETOOL_ESA_USER\",\"CDSETOOL_ESA_PASSWORD\"],\n",
    "                     fs_group='8877',\n",
    "                     args=[\"main.py\", string_dict_data_des],\n",
    "                     volumes=[{\n",
    "                        \"volume_type\": \"persistent_volume_claim\",\n",
    "                        \"name\": \"volume-land\",\n",
    "                        \"mount_path\": \"/app/files\",\n",
    "                        \"spec\": { \"size\": \"300Gi\" }\n",
    "                        }\n",
    "                    ]).after(s1)\n",
    "        \n",
    "        s3 = pc.step(name=\"elaborate\",\n",
    "                     function=\"elaborate\",\n",
    "                     action=\"job\",\n",
    "                     fs_group='8877',\n",
    "                     resources={\"cpu\": {\"requests\": \"6\", \"limits\": \"12\"},\"mem\":{\"requests\": \"32Gi\", \"limits\": \"64Gi\"}},\n",
    "                     volumes=[{\n",
    "                        \"volume_type\": \"persistent_volume_claim\",\n",
    "                        \"name\": \"volume-land\",\n",
    "                        \"mount_path\": \"/app/data\",\n",
    "                        \"spec\": { \"size\": \"2048Gi\" }\n",
    "                    }],\n",
    "                     args=['/shared/launch.sh', 's1_ascending', 's1_descending', str(startDate), str(endDate), str(outputName), 'Shapes_TN', 'ammprv_v.shp', str(geometry)]\n",
    "                     ).after(s2)\n",
    "     \n"
   ]
  },
  {
   "cell_type": "code",
   "execution_count": 34,
   "id": "2ff74531-65f7-4f4d-a283-f1dac73a2de5",
   "metadata": {},
   "outputs": [],
   "source": [
    "workflow = proj.new_workflow(name=\"pipeline_landslide\", kind=\"kfp\", code_src= \"landslide_pipeline.py\", handler = \"myhandler\")"
   ]
  },
  {
   "cell_type": "code",
   "execution_count": 35,
   "id": "5215a014-7342-4e9e-ba12-9d31b49cd44d",
   "metadata": {},
   "outputs": [
    {
     "name": "stderr",
     "output_type": "stream",
     "text": [
      "2025-06-17 10:19:56,043 - INFO - Waiting for run e171287f8c5b438782b43460db98cc07 to finish...\n",
      "2025-06-17 10:20:01,063 - INFO - Waiting for run e171287f8c5b438782b43460db98cc07 to finish...\n",
      "2025-06-17 10:20:06,087 - INFO - Waiting for run e171287f8c5b438782b43460db98cc07 to finish...\n",
      "2025-06-17 10:20:11,110 - INFO - Waiting for run e171287f8c5b438782b43460db98cc07 to finish...\n",
      "2025-06-17 10:20:16,132 - INFO - Waiting for run e171287f8c5b438782b43460db98cc07 to finish...\n",
      "2025-06-17 10:20:21,155 - INFO - Waiting for run e171287f8c5b438782b43460db98cc07 to finish...\n",
      "2025-06-17 10:20:26,179 - INFO - Waiting for run e171287f8c5b438782b43460db98cc07 to finish...\n",
      "2025-06-17 10:20:31,202 - INFO - Waiting for run e171287f8c5b438782b43460db98cc07 to finish...\n",
      "2025-06-17 10:20:36,225 - INFO - Waiting for run e171287f8c5b438782b43460db98cc07 to finish...\n",
      "2025-06-17 10:20:41,248 - INFO - Waiting for run e171287f8c5b438782b43460db98cc07 to finish...\n",
      "2025-06-17 10:20:46,271 - INFO - Waiting for run e171287f8c5b438782b43460db98cc07 to finish...\n",
      "2025-06-17 10:20:51,294 - INFO - Waiting for run e171287f8c5b438782b43460db98cc07 to finish...\n",
      "2025-06-17 10:20:56,317 - INFO - Waiting for run e171287f8c5b438782b43460db98cc07 to finish...\n",
      "2025-06-17 10:21:01,342 - INFO - Run e171287f8c5b438782b43460db98cc07 finished in 65.30 seconds.\n"
     ]
    }
   ],
   "source": [
    "wfbuild = workflow.run(action=\"build\", wait=True)"
   ]
  },
  {
   "cell_type": "code",
   "execution_count": 36,
   "id": "1bf170e2-0835-4dc8-85ac-1121aafaaf42",
   "metadata": {},
   "outputs": [],
   "source": [
    "workflow_run = workflow.run(action=\"pipeline\", parameters={\n",
    "    \"startDate\": \"2021-03-01\",\n",
    "    \"endDate\": \"2021-07-30\",\n",
    "    \"geometry\": \"POLYGON((10.81295 45.895743, 10.813637 45.895743, 10.813637 45.89634, 10.81295 45.89634, 10.81295 45.895743))\",\n",
    "    \"outputName\": \"landslide_2021-03_2021-07\"\n",
    "    })"
   ]
  },
  {
   "cell_type": "code",
   "execution_count": null,
   "id": "b9dcd68d-2196-4e35-9fb2-3ba860721089",
   "metadata": {},
   "outputs": [],
   "source": []
  }
 ],
 "metadata": {
  "kernelspec": {
   "display_name": "Python 3 (ipykernel)",
   "language": "python",
   "name": "python3"
  },
  "language_info": {
   "codemirror_mode": {
    "name": "ipython",
    "version": 3
   },
   "file_extension": ".py",
   "mimetype": "text/x-python",
   "name": "python",
   "nbconvert_exporter": "python",
   "pygments_lexer": "ipython3",
   "version": "3.10.11"
  }
 },
 "nbformat": 4,
 "nbformat_minor": 5
}
