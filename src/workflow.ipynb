{
 "cells": [
  {
   "cell_type": "markdown",
   "id": "d0f39895-fb6f-484a-a22c-27831cdeb74e",
   "metadata": {},
   "source": [
    "## FLOOD DETECTION SCENARIO PIPELINE"
   ]
  },
  {
   "cell_type": "code",
   "execution_count": null,
   "id": "50cf84c6-01ce-4002-a37a-f48e5ff44297",
   "metadata": {},
   "outputs": [],
   "source": [
    "import digitalhub as dh\n",
    "PROJECT_NAME = \"landslide-monitoring-v1\"\n",
    "proj = dh.get_or_create_project(PROJECT_NAME)"
   ]
  },
  {
   "cell_type": "markdown",
   "id": "0ec6a499-4688-4b64-a4af-07c068c12541",
   "metadata": {},
   "source": [
    "### Download data from Sentinel 1 (Orbit Direction Ascending/Descending)"
   ]
  },
  {
   "cell_type": "markdown",
   "id": "a7282999",
   "metadata": {},
   "source": [
    "Register to the open data space copernicus(if not already) and get your credentials.\n",
    "\n",
    "https://identity.dataspace.copernicus.eu/auth/realms/CDSE/login-actions/registration?client_id=cdse-public&tab_id=FIiRPJeoiX4\n",
    "\n",
    "Log the credentials as project secret keys as shown below"
   ]
  },
  {
   "cell_type": "code",
   "execution_count": null,
   "id": "e71b4aa9-58e3-4529-ac2f-b3696eb1f2c1",
   "metadata": {},
   "outputs": [],
   "source": [
    "# THIS NEED TO BE EXECUTED JUST ONCE\n",
    "secret0 = proj.new_secret(name=\"CDSETOOL_ESA_USER\", secret_value=\"esa_username\")\n",
    "secret1 = proj.new_secret(name=\"CDSETOOL_ESA_PASSWORD\", secret_value=\"esa_password\")"
   ]
  },
  {
   "cell_type": "code",
   "execution_count": null,
   "id": "8e451206",
   "metadata": {},
   "outputs": [],
   "source": [
    "function_s1 = proj.new_function(\"download_images_s1\",kind=\"container\",image=\"ghcr.io/tn-aixpa/sentinel-tools:0.11.6\",command=\"python\")"
   ]
  },
  {
   "cell_type": "markdown",
   "id": "fa876b7b-18d0-45c8-a332-ab179883dfdc",
   "metadata": {},
   "source": [
    "### Download Sentinel 1"
   ]
  },
  {
   "cell_type": "code",
   "execution_count": null,
   "id": "c28c3b80-e338-4e35-8749-e57eca2313ee",
   "metadata": {},
   "outputs": [],
   "source": [
    "function_s1 = proj.new_function(\"download_images_s1\",kind=\"container\",image=\"ghcr.io/tn-aixpa/sentinel-tools:0.11.6\",command=\"python\")"
   ]
  },
  {
   "cell_type": "markdown",
   "id": "aa7ec884",
   "metadata": {},
   "source": [
    "### Log artifact"
   ]
  },
  {
   "cell_type": "markdown",
   "id": "b6b3f3be",
   "metadata": {},
   "source": [
    "Log the shape file 'Shapes_TN' which can be downloaded from the [WebGIS Portal](https://webgis.provincia.tn.it/) from https://siatservices.provincia.tn.it/idt/vector/p_TN_377793f1-1094-4e81-810e-403897418b23.zip. Unzip the files in a folder named 'Shapes_TN' and then log it\n"
   ]
  },
  {
   "cell_type": "code",
   "execution_count": null,
   "id": "edc2e3cc",
   "metadata": {},
   "outputs": [],
   "source": [
    "artifact_name='Shapes_TN'\n",
    "src_path='/Shapes_TN'\n",
    "artifact_data = proj.log_artifact(name=artifact_name, kind=\"artifact\", source=src_path)"
   ]
  },
  {
   "cell_type": "markdown",
   "id": "78912223",
   "metadata": {},
   "source": [
    "Note that to invoke the operation on the platform, the data should be avaialble as an artifact on the platform datalake.\n"
   ]
  },
  {
   "cell_type": "code",
   "execution_count": null,
   "id": "505870b1",
   "metadata": {},
   "outputs": [],
   "source": [
    "artifact = proj.get_artifact(\"Shapes_TN\")\n",
    "artifact.key"
   ]
  },
  {
   "cell_type": "markdown",
   "id": "52cb255d",
   "metadata": {},
   "source": [
    "The resulting datasets will be registered as the project artifact in the datalake under the name 'Shapes_TN'"
   ]
  },
  {
   "cell_type": "markdown",
   "id": "a96a9aeb-755e-4b75-bc50-4e77ef972e28",
   "metadata": {},
   "source": [
    "### Elaboration"
   ]
  },
  {
   "cell_type": "code",
   "execution_count": null,
   "id": "dc2e2394-ca5a-44f1-94f9-75cead8998b8",
   "metadata": {},
   "outputs": [],
   "source": [
    "function_rs = proj.new_function(\"elaborate\",kind=\"container\", image=\"ghcr.io/tn-aixpa/rs-landslide-monitoring:2.9\", command=\"/bin/bash\", code_src=\"launch.sh\")"
   ]
  },
  {
   "cell_type": "markdown",
   "id": "3a497171-4027-4cfb-ba30-83ee183167a3",
   "metadata": {},
   "source": [
    "### Pipeline"
   ]
  },
  {
   "cell_type": "code",
   "execution_count": null,
   "id": "577e46db-4c43-4a6b-ad52-b04807173e33",
   "metadata": {},
   "outputs": [],
   "source": [
    "%%writefile \"landslide_pipeline.py\"\n",
    "\n",
    "from digitalhub_runtime_kfp.dsl import pipeline_context\n",
    "\n",
    "def myhandler(startDate, endDate, geometry, outputName):\n",
    "    with pipeline_context() as pc:\n",
    "        \n",
    "        s1_ascending = \"s1_ascending_\" + str(outputName)\n",
    "        s1_descending = \"s1_descending_\"+ str(outputName) \n",
    "    \n",
    "        string_dict_data_asc = \"\"\"{\"satelliteParams\":{\"satelliteType\": \"Sentinel1\",\"processingLevel\": \"LEVEL1\",\"sensorMode\": \"IW\",\"productType\": \"SLC\",\"orbitDirection\": \"ASCENDING\",\"relativeOrbitNumber\": \"117\"},\"startDate\": \\\"\"\"\" + str(startDate) + \"\"\"\\\",\"endDate\": \\\"\"\"\" + str(endDate) + \"\"\"\\\",\"geometry\": \\\"\"\"\" + str(geometry) + \"\"\"\\\",\"area_sampling\": \"True\",\"artifact_name\": \\\"\"\"\" + str(s1_ascending) + \"\"\"\\\"}\"\"\"\n",
    "        string_dict_data_des = \"\"\"{\"satelliteParams\":{\"satelliteType\": \"Sentinel1\",\"processingLevel\": \"LEVEL1\",\"sensorMode\": \"IW\",\"productType\": \"SLC\",\"orbitDirection\": \"DESCENDING\",\"relativeOrbitNumber\": \"168\"},\"startDate\": \\\"\"\"\" + str(startDate) + \"\"\"\\\",\"endDate\": \\\"\"\"\" + str(endDate) + \"\"\"\\\",\"geometry\": \\\"\"\"\" + str(geometry) + \"\"\"\\\",\"area_sampling\": \"True\",\"artifact_name\": \\\"\"\"\" + str(s1_descending) + \"\"\"\\\"}\"\"\"\n",
    "        \n",
    "        s1 = pc.step(name=\"download-asc\",\n",
    "                     function=\"download_images_s1\",\n",
    "                     action=\"job\",\n",
    "                     secrets=[\"CDSETOOL_ESA_USER\",\"CDSETOOL_ESA_PASSWORD\"],\n",
    "                     fs_group='8877',\n",
    "                     args=[\"main.py\", string_dict_data_asc],\n",
    "                     volumes=[{\n",
    "                        \"volume_type\": \"persistent_volume_claim\",\n",
    "                        \"name\": \"volume-land\",\n",
    "                        \"mount_path\": \"/app/files\",\n",
    "                        \"spec\": { \"size\": \"300Gi\" }\n",
    "                        }\n",
    "                    ])\n",
    "\n",
    "        s2 = pc.step(name=\"download-desc\",\n",
    "                     function=\"download_images_s1\",\n",
    "                     action=\"job\",\n",
    "                     secrets=[\"CDSETOOL_ESA_USER\",\"CDSETOOL_ESA_PASSWORD\"],\n",
    "                     fs_group='8877',\n",
    "                     args=[\"main.py\", string_dict_data_des],\n",
    "                     volumes=[{\n",
    "                        \"volume_type\": \"persistent_volume_claim\",\n",
    "                        \"name\": \"volume-land\",\n",
    "                        \"mount_path\": \"/app/files\",\n",
    "                        \"spec\": { \"size\": \"300Gi\" }\n",
    "                        }\n",
    "                    ]).after(s1)\n",
    "        \n",
    "        s3 = pc.step(name=\"elaborate\",\n",
    "                     function=\"elaborate\",\n",
    "                     action=\"job\",\n",
    "                     fs_group='8877',\n",
    "                     resources={\"cpu\": {\"requests\": \"6\", \"limits\": \"12\"},\"mem\":{\"requests\": \"32Gi\", \"limits\": \"64Gi\"}},\n",
    "                     volumes=[{\n",
    "                        \"volume_type\": \"persistent_volume_claim\",\n",
    "                        \"name\": \"volume-land\",\n",
    "                        \"mount_path\": \"/app/data\",\n",
    "                        \"spec\": { \"size\": \"500Gi\" }\n",
    "                    }],\n",
    "                     args=['/shared/launch.sh', str(s1_ascending), str(s1_descending), str(startDate), str(endDate), str(outputName), 'Shapes_TN', 'ammprv_v.shp', 'Map',  str(geometry)]\n",
    "                     ).after(s2)\n",
    "     \n"
   ]
  },
  {
   "cell_type": "markdown",
   "id": "45d1fc3a",
   "metadata": {},
   "source": [
    "Create workflow using project repo source file"
   ]
  },
  {
   "cell_type": "code",
   "execution_count": null,
   "id": "49331d11-febc-4799-9f24-ad0b3c4c609d",
   "metadata": {},
   "outputs": [],
   "source": [
    "workflow = proj.new_workflow(name=\"pipeline_landslide\", kind=\"kfp\", code_src= \"landslide_pipeline.py\", handler = \"myhandler\")"
   ]
  },
  {
   "cell_type": "markdown",
   "id": "c3a6cf3b",
   "metadata": {},
   "source": [
    "Build workflow"
   ]
  },
  {
   "cell_type": "code",
   "execution_count": null,
   "id": "023e86e0-c78f-4040-8f70-3de30c02797d",
   "metadata": {},
   "outputs": [],
   "source": [
    "wfbuild = workflow.run(action=\"build\", wait=True)"
   ]
  },
  {
   "cell_type": "markdown",
   "id": "cccfc8f1",
   "metadata": {},
   "source": [
    "Run workflow"
   ]
  },
  {
   "cell_type": "code",
   "execution_count": null,
   "id": "a691ab62",
   "metadata": {},
   "outputs": [],
   "source": [
    "workflow_run = workflow.run(action=\"pipeline\", parameters={\n",
    "    \"startDate\": \"2020-11-01\",\n",
    "    \"endDate\": \"2021-11-07\",\n",
    "    \"geometry\": \"POLYGON ((10.595369 45.923394, 10.644894 45.923394, 10.644894 45.945838, 10.595369 45.945838, 10.595369 45.923394))\",\n",
    "    \"outputName\": \"landslide_2020-11-01_2020-11-07\"\n",
    "    })"
   ]
  }
 ],
 "metadata": {
  "kernelspec": {
   "display_name": "Python 3.10 (OltreAI)",
   "language": "python",
   "name": "python3.10"
  },
  "language_info": {
   "codemirror_mode": {
    "name": "ipython",
    "version": 3
   },
   "file_extension": ".py",
   "mimetype": "text/x-python",
   "name": "python",
   "nbconvert_exporter": "python",
   "pygments_lexer": "ipython3",
   "version": "3.10.18"
  }
 },
 "nbformat": 4,
 "nbformat_minor": 5
}
